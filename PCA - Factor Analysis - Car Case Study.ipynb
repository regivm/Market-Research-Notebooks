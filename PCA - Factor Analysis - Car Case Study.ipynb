{
 "cells": [
  {
   "cell_type": "code",
   "execution_count": 33,
   "metadata": {},
   "outputs": [],
   "source": [
    "import pandas as pd\n",
    "import numpy as np\n",
    "import matplotlib.pyplot as plt\n",
    "import seaborn as sns\n",
    "\n",
    "from sklearn.decomposition import PCA"
   ]
  },
  {
   "cell_type": "code",
   "execution_count": 34,
   "metadata": {},
   "outputs": [
    {
     "data": {
      "text/html": [
       "<div>\n",
       "<style scoped>\n",
       "    .dataframe tbody tr th:only-of-type {\n",
       "        vertical-align: middle;\n",
       "    }\n",
       "\n",
       "    .dataframe tbody tr th {\n",
       "        vertical-align: top;\n",
       "    }\n",
       "\n",
       "    .dataframe thead th {\n",
       "        text-align: right;\n",
       "    }\n",
       "</style>\n",
       "<table border=\"1\" class=\"dataframe\">\n",
       "  <thead>\n",
       "    <tr style=\"text-align: right;\">\n",
       "      <th></th>\n",
       "      <th>Make</th>\n",
       "      <th>Brand</th>\n",
       "      <th>Country</th>\n",
       "      <th>Sports</th>\n",
       "      <th>SUV</th>\n",
       "      <th>Wagon</th>\n",
       "      <th>Minivan</th>\n",
       "      <th>Pickup</th>\n",
       "      <th>AWD</th>\n",
       "      <th>RWD</th>\n",
       "      <th>...</th>\n",
       "      <th>HighwayMPG</th>\n",
       "      <th>Dealer</th>\n",
       "      <th>Engine</th>\n",
       "      <th>Cylinders</th>\n",
       "      <th>Horsepower</th>\n",
       "      <th>CityMPG</th>\n",
       "      <th>Weight</th>\n",
       "      <th>Wheelbase</th>\n",
       "      <th>Length</th>\n",
       "      <th>Width</th>\n",
       "    </tr>\n",
       "  </thead>\n",
       "  <tbody>\n",
       "    <tr>\n",
       "      <th>0</th>\n",
       "      <td>Acura 3.5 RL</td>\n",
       "      <td>Acura</td>\n",
       "      <td>Japan</td>\n",
       "      <td>0</td>\n",
       "      <td>0</td>\n",
       "      <td>0</td>\n",
       "      <td>0</td>\n",
       "      <td>0</td>\n",
       "      <td>0</td>\n",
       "      <td>0</td>\n",
       "      <td>...</td>\n",
       "      <td>24</td>\n",
       "      <td>39014</td>\n",
       "      <td>3.5</td>\n",
       "      <td>6</td>\n",
       "      <td>225</td>\n",
       "      <td>18</td>\n",
       "      <td>3880</td>\n",
       "      <td>115</td>\n",
       "      <td>197</td>\n",
       "      <td>72</td>\n",
       "    </tr>\n",
       "    <tr>\n",
       "      <th>1</th>\n",
       "      <td>Acura 3.5 RL Navigation</td>\n",
       "      <td>Acura</td>\n",
       "      <td>Japan</td>\n",
       "      <td>0</td>\n",
       "      <td>0</td>\n",
       "      <td>0</td>\n",
       "      <td>0</td>\n",
       "      <td>0</td>\n",
       "      <td>0</td>\n",
       "      <td>0</td>\n",
       "      <td>...</td>\n",
       "      <td>24</td>\n",
       "      <td>41100</td>\n",
       "      <td>3.5</td>\n",
       "      <td>6</td>\n",
       "      <td>225</td>\n",
       "      <td>18</td>\n",
       "      <td>3893</td>\n",
       "      <td>115</td>\n",
       "      <td>197</td>\n",
       "      <td>72</td>\n",
       "    </tr>\n",
       "    <tr>\n",
       "      <th>2</th>\n",
       "      <td>Acura MDX</td>\n",
       "      <td>Acura</td>\n",
       "      <td>Japan</td>\n",
       "      <td>0</td>\n",
       "      <td>1</td>\n",
       "      <td>0</td>\n",
       "      <td>0</td>\n",
       "      <td>0</td>\n",
       "      <td>1</td>\n",
       "      <td>0</td>\n",
       "      <td>...</td>\n",
       "      <td>23</td>\n",
       "      <td>33337</td>\n",
       "      <td>3.5</td>\n",
       "      <td>6</td>\n",
       "      <td>265</td>\n",
       "      <td>17</td>\n",
       "      <td>4451</td>\n",
       "      <td>106</td>\n",
       "      <td>189</td>\n",
       "      <td>77</td>\n",
       "    </tr>\n",
       "    <tr>\n",
       "      <th>3</th>\n",
       "      <td>Acura NSX S</td>\n",
       "      <td>Acura</td>\n",
       "      <td>Japan</td>\n",
       "      <td>1</td>\n",
       "      <td>0</td>\n",
       "      <td>0</td>\n",
       "      <td>0</td>\n",
       "      <td>0</td>\n",
       "      <td>0</td>\n",
       "      <td>1</td>\n",
       "      <td>...</td>\n",
       "      <td>24</td>\n",
       "      <td>79978</td>\n",
       "      <td>3.2</td>\n",
       "      <td>6</td>\n",
       "      <td>290</td>\n",
       "      <td>17</td>\n",
       "      <td>3153</td>\n",
       "      <td>100</td>\n",
       "      <td>174</td>\n",
       "      <td>71</td>\n",
       "    </tr>\n",
       "    <tr>\n",
       "      <th>4</th>\n",
       "      <td>Acura RSX</td>\n",
       "      <td>Acura</td>\n",
       "      <td>Japan</td>\n",
       "      <td>0</td>\n",
       "      <td>0</td>\n",
       "      <td>0</td>\n",
       "      <td>0</td>\n",
       "      <td>0</td>\n",
       "      <td>0</td>\n",
       "      <td>0</td>\n",
       "      <td>...</td>\n",
       "      <td>31</td>\n",
       "      <td>21761</td>\n",
       "      <td>2.0</td>\n",
       "      <td>4</td>\n",
       "      <td>200</td>\n",
       "      <td>24</td>\n",
       "      <td>2778</td>\n",
       "      <td>101</td>\n",
       "      <td>172</td>\n",
       "      <td>68</td>\n",
       "    </tr>\n",
       "  </tbody>\n",
       "</table>\n",
       "<p>5 rows × 21 columns</p>\n",
       "</div>"
      ],
      "text/plain": [
       "                      Make  Brand Country  Sports  SUV  Wagon  Minivan  \\\n",
       "0             Acura 3.5 RL  Acura   Japan       0    0      0        0   \n",
       "1  Acura 3.5 RL Navigation  Acura   Japan       0    0      0        0   \n",
       "2                Acura MDX  Acura   Japan       0    1      0        0   \n",
       "3              Acura NSX S  Acura   Japan       1    0      0        0   \n",
       "4                Acura RSX  Acura   Japan       0    0      0        0   \n",
       "\n",
       "   Pickup  AWD  RWD  ...  HighwayMPG  Dealer  Engine  Cylinders  Horsepower  \\\n",
       "0       0    0    0  ...          24   39014     3.5          6         225   \n",
       "1       0    0    0  ...          24   41100     3.5          6         225   \n",
       "2       0    1    0  ...          23   33337     3.5          6         265   \n",
       "3       0    0    1  ...          24   79978     3.2          6         290   \n",
       "4       0    0    0  ...          31   21761     2.0          4         200   \n",
       "\n",
       "   CityMPG  Weight  Wheelbase  Length  Width  \n",
       "0       18    3880        115     197     72  \n",
       "1       18    3893        115     197     72  \n",
       "2       17    4451        106     189     77  \n",
       "3       17    3153        100     174     71  \n",
       "4       24    2778        101     172     68  \n",
       "\n",
       "[5 rows x 21 columns]"
      ]
     },
     "execution_count": 34,
     "metadata": {},
     "output_type": "execute_result"
    }
   ],
   "source": [
    "df = pd.read_csv('04cars-fixed.csv')\n",
    "df.head()"
   ]
  },
  {
   "cell_type": "raw",
   "metadata": {},
   "source": [
    "Column country is created based on brand and we can use this for visualization"
   ]
  },
  {
   "cell_type": "code",
   "execution_count": 35,
   "metadata": {},
   "outputs": [],
   "source": [
    "label = df.loc[:, ['Brand', 'Country']]\n",
    "X = df.iloc[:,9:]\n",
    "cols = list(X.columns)"
   ]
  },
  {
   "cell_type": "code",
   "execution_count": 36,
   "metadata": {},
   "outputs": [
    {
     "name": "stdout",
     "output_type": "stream",
     "text": [
      "<class 'pandas.core.frame.DataFrame'>\n",
      "RangeIndex: 387 entries, 0 to 386\n",
      "Data columns (total 12 columns):\n",
      " #   Column      Non-Null Count  Dtype  \n",
      "---  ------      --------------  -----  \n",
      " 0   RWD         387 non-null    int64  \n",
      " 1   Retail      387 non-null    int64  \n",
      " 2   HighwayMPG  387 non-null    int64  \n",
      " 3   Dealer      387 non-null    int64  \n",
      " 4   Engine      387 non-null    float64\n",
      " 5   Cylinders   387 non-null    int64  \n",
      " 6   Horsepower  387 non-null    int64  \n",
      " 7   CityMPG     387 non-null    int64  \n",
      " 8   Weight      387 non-null    int64  \n",
      " 9   Wheelbase   387 non-null    int64  \n",
      " 10  Length      387 non-null    int64  \n",
      " 11  Width       387 non-null    int64  \n",
      "dtypes: float64(1), int64(11)\n",
      "memory usage: 36.4 KB\n"
     ]
    }
   ],
   "source": [
    "X.info()"
   ]
  },
  {
   "cell_type": "code",
   "execution_count": 37,
   "metadata": {},
   "outputs": [],
   "source": [
    "from sklearn.preprocessing import StandardScaler\n",
    "ss = StandardScaler()\n",
    "Xs = ss.fit_transform(X)\n",
    "Xs = pd.DataFrame(Xs, columns=cols)"
   ]
  },
  {
   "cell_type": "code",
   "execution_count": 38,
   "metadata": {},
   "outputs": [
    {
     "data": {
      "text/plain": [
       "PCA()"
      ]
     },
     "execution_count": 38,
     "metadata": {},
     "output_type": "execute_result"
    }
   ],
   "source": [
    "pca = PCA()\n",
    "pca.fit(Xs)"
   ]
  },
  {
   "cell_type": "code",
   "execution_count": 39,
   "metadata": {},
   "outputs": [
    {
     "data": {
      "text/plain": [
       "array([7.23172402e+00, 2.11860395e+00, 8.99804162e-01, 6.57179049e-01,\n",
       "       3.42095796e-01, 2.66998522e-01, 1.95355621e-01, 1.40755499e-01,\n",
       "       7.71549730e-02, 6.36365798e-02, 3.69878612e-02, 7.92055104e-04])"
      ]
     },
     "execution_count": 39,
     "metadata": {},
     "output_type": "execute_result"
    }
   ],
   "source": [
    "pca.explained_variance_"
   ]
  },
  {
   "cell_type": "markdown",
   "metadata": {},
   "source": [
    "Number of vriables being considered is 11 and hence it got 11 Components. Since the variables are standardised, the variance of each variables is 1. \n",
    "\n",
    "the above result shows that eigenvalue of PC1 is 7.12 (out of total 11). Hence, proportion of variation accounted by PC1 is 7.12/11.\n",
    "\n",
    "Similarly we notice that eigenvalue of PC2 is 1.88 (out of 11). Hence, proportion of variation accounted by PC1 is (1.88/11). \n",
    "\n",
    "We notice that eigenvalue of PC3 and higher is less than 1. It means that these components are not accounting for the variation of even 1 variable. Hence, we may not consider these."
   ]
  },
  {
   "cell_type": "code",
   "execution_count": 40,
   "metadata": {},
   "outputs": [
    {
     "data": {
      "image/png": "[encoded data removed]",
      "text/plain": [
       "<Figure size 432x288 with 1 Axes>"
      ]
     },
     "metadata": {
      "needs_background": "light"
     },
     "output_type": "display_data"
    }
   ],
   "source": [
    "pd.DataFrame(pca.explained_variance_).plot.bar()\n",
    "plt.show()"
   ]
  },
  {
   "cell_type": "code",
   "execution_count": 41,
   "metadata": {},
   "outputs": [
    {
     "data": {
      "text/plain": [
       "array([6.01086449e-01, 1.76094127e-01, 7.47899239e-02, 5.46234093e-02,\n",
       "       2.84343189e-02, 2.21923836e-02, 1.62375689e-02, 1.16993158e-02,\n",
       "       6.41296718e-03, 5.28934535e-03, 3.07435711e-03, 6.58340375e-05])"
      ]
     },
     "execution_count": 41,
     "metadata": {},
     "output_type": "execute_result"
    }
   ],
   "source": [
    "pca.explained_variance_ratio_"
   ]
  },
  {
   "cell_type": "code",
   "execution_count": 42,
   "metadata": {
    "scrolled": true
   },
   "outputs": [
    {
     "data": {
      "text/plain": [
       "array([0.60108645, 0.77718058, 0.8519705 , 0.90659391, 0.93502823,\n",
       "       0.95722061, 0.97345818, 0.9851575 , 0.99157046, 0.99685981,\n",
       "       0.99993417, 1.        ])"
      ]
     },
     "execution_count": 42,
     "metadata": {},
     "output_type": "execute_result"
    }
   ],
   "source": [
    "np.cumsum(pca.explained_variance_ratio_)"
   ]
  },
  {
   "cell_type": "code",
   "execution_count": 43,
   "metadata": {},
   "outputs": [
    {
     "data": {
      "image/png": "[encoded data removed]",
      "text/plain": [
       "<Figure size 432x288 with 1 Axes>"
      ]
     },
     "metadata": {
      "needs_background": "light"
     },
     "output_type": "display_data"
    }
   ],
   "source": [
    "plt.plot(np.cumsum(pca.explained_variance_ratio_))\n",
    "plt.show()"
   ]
  },
  {
   "cell_type": "code",
   "execution_count": 44,
   "metadata": {},
   "outputs": [
    {
     "data": {
      "text/plain": [
       "PCA(n_components=3)"
      ]
     },
     "execution_count": 44,
     "metadata": {},
     "output_type": "execute_result"
    }
   ],
   "source": [
    "pca = PCA(n_components=3)\n",
    "pca.fit(Xs)"
   ]
  },
  {
   "cell_type": "code",
   "execution_count": 45,
   "metadata": {},
   "outputs": [
    {
     "data": {
      "text/html": [
       "<div>\n",
       "<style scoped>\n",
       "    .dataframe tbody tr th:only-of-type {\n",
       "        vertical-align: middle;\n",
       "    }\n",
       "\n",
       "    .dataframe tbody tr th {\n",
       "        vertical-align: top;\n",
       "    }\n",
       "\n",
       "    .dataframe thead th {\n",
       "        text-align: right;\n",
       "    }\n",
       "</style>\n",
       "<table border=\"1\" class=\"dataframe\">\n",
       "  <thead>\n",
       "    <tr style=\"text-align: right;\">\n",
       "      <th></th>\n",
       "      <th>PC1</th>\n",
       "      <th>PC2</th>\n",
       "      <th>PC3</th>\n",
       "    </tr>\n",
       "  </thead>\n",
       "  <tbody>\n",
       "    <tr>\n",
       "      <th>RWD</th>\n",
       "      <td>-0.131538</td>\n",
       "      <td>0.395592</td>\n",
       "      <td>0.384310</td>\n",
       "    </tr>\n",
       "    <tr>\n",
       "      <th>Retail</th>\n",
       "      <td>-0.267714</td>\n",
       "      <td>0.415259</td>\n",
       "      <td>0.100935</td>\n",
       "    </tr>\n",
       "    <tr>\n",
       "      <th>HighwayMPG</th>\n",
       "      <td>0.302509</td>\n",
       "      <td>0.032538</td>\n",
       "      <td>0.559770</td>\n",
       "    </tr>\n",
       "    <tr>\n",
       "      <th>Dealer</th>\n",
       "      <td>-0.266322</td>\n",
       "      <td>0.416931</td>\n",
       "      <td>0.102662</td>\n",
       "    </tr>\n",
       "    <tr>\n",
       "      <th>Engine</th>\n",
       "      <td>-0.344568</td>\n",
       "      <td>-0.027316</td>\n",
       "      <td>0.052994</td>\n",
       "    </tr>\n",
       "    <tr>\n",
       "      <th>Cylinders</th>\n",
       "      <td>-0.333922</td>\n",
       "      <td>0.069340</td>\n",
       "      <td>0.089994</td>\n",
       "    </tr>\n",
       "    <tr>\n",
       "      <th>Horsepower</th>\n",
       "      <td>-0.319930</td>\n",
       "      <td>0.251063</td>\n",
       "      <td>-0.002012</td>\n",
       "    </tr>\n",
       "    <tr>\n",
       "      <th>CityMPG</th>\n",
       "      <td>0.307069</td>\n",
       "      <td>0.030329</td>\n",
       "      <td>0.482183</td>\n",
       "    </tr>\n",
       "    <tr>\n",
       "      <th>Weight</th>\n",
       "      <td>-0.328999</td>\n",
       "      <td>-0.200038</td>\n",
       "      <td>-0.139041</td>\n",
       "    </tr>\n",
       "    <tr>\n",
       "      <th>Wheelbase</th>\n",
       "      <td>-0.259492</td>\n",
       "      <td>-0.385901</td>\n",
       "      <td>0.318369</td>\n",
       "    </tr>\n",
       "    <tr>\n",
       "      <th>Length</th>\n",
       "      <td>-0.249708</td>\n",
       "      <td>-0.381029</td>\n",
       "      <td>0.374007</td>\n",
       "    </tr>\n",
       "    <tr>\n",
       "      <th>Width</th>\n",
       "      <td>-0.289448</td>\n",
       "      <td>-0.304223</td>\n",
       "      <td>0.119383</td>\n",
       "    </tr>\n",
       "  </tbody>\n",
       "</table>\n",
       "</div>"
      ],
      "text/plain": [
       "                 PC1       PC2       PC3\n",
       "RWD        -0.131538  0.395592  0.384310\n",
       "Retail     -0.267714  0.415259  0.100935\n",
       "HighwayMPG  0.302509  0.032538  0.559770\n",
       "Dealer     -0.266322  0.416931  0.102662\n",
       "Engine     -0.344568 -0.027316  0.052994\n",
       "Cylinders  -0.333922  0.069340  0.089994\n",
       "Horsepower -0.319930  0.251063 -0.002012\n",
       "CityMPG     0.307069  0.030329  0.482183\n",
       "Weight     -0.328999 -0.200038 -0.139041\n",
       "Wheelbase  -0.259492 -0.385901  0.318369\n",
       "Length     -0.249708 -0.381029  0.374007\n",
       "Width      -0.289448 -0.304223  0.119383"
      ]
     },
     "execution_count": 45,
     "metadata": {},
     "output_type": "execute_result"
    }
   ],
   "source": [
    "pd.DataFrame(pca.components_.T, index=cols, columns=['PC1', 'PC2', 'PC3'])"
   ]
  },
  {
   "cell_type": "raw",
   "metadata": {},
   "source": [
    "The loadings can be used for interpreting the components. However, the loadings are not well separated as most values are between 0.2 and 0.4. This is a weakness of PCA."
   ]
  },
  {
   "cell_type": "code",
   "execution_count": 46,
   "metadata": {},
   "outputs": [],
   "source": [
    "x_pc = pca.fit_transform(Xs)"
   ]
  },
  {
   "cell_type": "code",
   "execution_count": 47,
   "metadata": {},
   "outputs": [
    {
     "data": {
      "text/plain": [
       "(387, 3)"
      ]
     },
     "execution_count": 47,
     "metadata": {},
     "output_type": "execute_result"
    }
   ],
   "source": [
    "x_pc.shape"
   ]
  },
  {
   "cell_type": "code",
   "execution_count": 48,
   "metadata": {},
   "outputs": [
    {
     "data": {
      "image/png": "[encoded data removed]",
      "text/plain": [
       "<Figure size 432x288 with 1 Axes>"
      ]
     },
     "metadata": {
      "needs_background": "light"
     },
     "output_type": "display_data"
    }
   ],
   "source": [
    "fig, ax = plt.subplots()\n",
    "group = label['Country']\n",
    "for g in list(group.unique()):\n",
    "    i = np.where(group==g)\n",
    "    ax.scatter(x_pc[i,0], x_pc[i,1], label=g)\n",
    "\n",
    "ax.set_xlabel('PC1')\n",
    "ax.set_ylabel('PC2')\n",
    "ax.legend()\n",
    "plt.show()"
   ]
  },
  {
   "cell_type": "code",
   "execution_count": 49,
   "metadata": {},
   "outputs": [],
   "source": [
    "x_pc= pd.DataFrame(x_pc, columns=['PC1', 'PC2', 'PC3'])"
   ]
  },
  {
   "cell_type": "code",
   "execution_count": 50,
   "metadata": {},
   "outputs": [],
   "source": [
    "#x_pc.to_csv('x_pc.csv')"
   ]
  },
  {
   "cell_type": "markdown",
   "metadata": {},
   "source": [
    "### Factor Analysis"
   ]
  },
  {
   "cell_type": "code",
   "execution_count": 62,
   "metadata": {},
   "outputs": [],
   "source": [
    "import pandas as pd\n",
    "from sklearn.datasets import load_iris\n",
    "#from sklearn.decomposition import FactorAnalysis\n",
    "import matplotlib.pyplot as plt\n",
    "import pandas as pd\n",
    "from sklearn.datasets import load_iris\n",
    "from factor_analyzer import FactorAnalyzer\n",
    "import matplotlib.pyplot as plt"
   ]
  },
  {
   "cell_type": "code",
   "execution_count": 63,
   "metadata": {},
   "outputs": [],
   "source": [
    "label = df.loc[:, ['Brand', 'Country']]\n",
    "X = df.iloc[:,9:]\n",
    "cols = list(X.columns)"
   ]
  },
  {
   "cell_type": "code",
   "execution_count": 67,
   "metadata": {},
   "outputs": [],
   "source": [
    "from sklearn.preprocessing import StandardScaler\n",
    "ss = StandardScaler()\n",
    "Xs = ss.fit_transform(X)\n",
    "Xs = pd.DataFrame(Xs, columns=cols)"
   ]
  },
  {
   "cell_type": "code",
   "execution_count": 68,
   "metadata": {},
   "outputs": [],
   "source": [
    "factor = FactorAnalyzer()"
   ]
  },
  {
   "cell_type": "code",
   "execution_count": 69,
   "metadata": {},
   "outputs": [
    {
     "data": {
      "text/plain": [
       "array([0.26972154, 0.94151721, 1.00831787, 0.93726916, 0.84018721,\n",
       "       0.78512057, 0.85339486, 0.84902393, 0.84820682, 0.84897397,\n",
       "       0.81583852, 0.75501983])"
      ]
     },
     "execution_count": 69,
     "metadata": {},
     "output_type": "execute_result"
    }
   ],
   "source": [
    "factor = FactorAnalyzer(rotation = 'Varimax')\n",
    "factor.fit(Xs)\n",
    "# Check Eigenvalues\n",
    "factor.get_communalities()"
   ]
  },
  {
   "cell_type": "code",
   "execution_count": 70,
   "metadata": {},
   "outputs": [
    {
     "data": {
      "text/plain": [
       "array([[-0.00972785,  0.51559352,  0.06156483],\n",
       "       [ 0.12726681,  0.94172462,  0.19615072],\n",
       "       [-0.28678581, -0.25630916, -0.9275653 ],\n",
       "       [ 0.12433151,  0.94049142,  0.19309771],\n",
       "       [ 0.62079081,  0.50340348,  0.44876599],\n",
       "       [ 0.52348291,  0.58897365,  0.40521136],\n",
       "       [ 0.31793921,  0.76999679,  0.3992674 ],\n",
       "       [-0.34868425, -0.30246392, -0.79747025],\n",
       "       [ 0.68642731,  0.26286161,  0.55491273],\n",
       "       [ 0.90139439,  0.05016625,  0.18424298],\n",
       "       [ 0.89197113,  0.06255345,  0.12772268],\n",
       "       [ 0.78052297,  0.14653955,  0.35260443]])"
      ]
     },
     "execution_count": 70,
     "metadata": {},
     "output_type": "execute_result"
    }
   ],
   "source": [
    "factor.loadings_"
   ]
  },
  {
   "cell_type": "code",
   "execution_count": 102,
   "metadata": {},
   "outputs": [
    {
     "data": {
      "image/png": "[encoded data removed]",
      "text/plain": [
       "<Figure size 432x288 with 1 Axes>"
      ]
     },
     "metadata": {
      "needs_background": "light"
     },
     "output_type": "display_data"
    }
   ],
   "source": [
    "ev, _ = factor.get_eigenvalues()\n",
    "plt.plot(ev)\n",
    "plt.show()"
   ]
  },
  {
   "cell_type": "code",
   "execution_count": 78,
   "metadata": {},
   "outputs": [
    {
     "data": {
      "text/html": [
       "<div>\n",
       "<style scoped>\n",
       "    .dataframe tbody tr th:only-of-type {\n",
       "        vertical-align: middle;\n",
       "    }\n",
       "\n",
       "    .dataframe tbody tr th {\n",
       "        vertical-align: top;\n",
       "    }\n",
       "\n",
       "    .dataframe thead th {\n",
       "        text-align: right;\n",
       "    }\n",
       "</style>\n",
       "<table border=\"1\" class=\"dataframe\">\n",
       "  <thead>\n",
       "    <tr style=\"text-align: right;\">\n",
       "      <th></th>\n",
       "      <th>factor1</th>\n",
       "      <th>factor2</th>\n",
       "      <th>factor3</th>\n",
       "    </tr>\n",
       "  </thead>\n",
       "  <tbody>\n",
       "    <tr>\n",
       "      <th>RWD</th>\n",
       "      <td>-0.009728</td>\n",
       "      <td>0.515594</td>\n",
       "      <td>0.061565</td>\n",
       "    </tr>\n",
       "    <tr>\n",
       "      <th>Retail</th>\n",
       "      <td>0.127267</td>\n",
       "      <td>0.941725</td>\n",
       "      <td>0.196151</td>\n",
       "    </tr>\n",
       "    <tr>\n",
       "      <th>HighwayMPG</th>\n",
       "      <td>-0.286786</td>\n",
       "      <td>-0.256309</td>\n",
       "      <td>-0.927565</td>\n",
       "    </tr>\n",
       "    <tr>\n",
       "      <th>Dealer</th>\n",
       "      <td>0.124332</td>\n",
       "      <td>0.940491</td>\n",
       "      <td>0.193098</td>\n",
       "    </tr>\n",
       "    <tr>\n",
       "      <th>Engine</th>\n",
       "      <td>0.620791</td>\n",
       "      <td>0.503403</td>\n",
       "      <td>0.448766</td>\n",
       "    </tr>\n",
       "    <tr>\n",
       "      <th>Cylinders</th>\n",
       "      <td>0.523483</td>\n",
       "      <td>0.588974</td>\n",
       "      <td>0.405211</td>\n",
       "    </tr>\n",
       "    <tr>\n",
       "      <th>Horsepower</th>\n",
       "      <td>0.317939</td>\n",
       "      <td>0.769997</td>\n",
       "      <td>0.399267</td>\n",
       "    </tr>\n",
       "    <tr>\n",
       "      <th>CityMPG</th>\n",
       "      <td>-0.348684</td>\n",
       "      <td>-0.302464</td>\n",
       "      <td>-0.797470</td>\n",
       "    </tr>\n",
       "    <tr>\n",
       "      <th>Weight</th>\n",
       "      <td>0.686427</td>\n",
       "      <td>0.262862</td>\n",
       "      <td>0.554913</td>\n",
       "    </tr>\n",
       "    <tr>\n",
       "      <th>Wheelbase</th>\n",
       "      <td>0.901394</td>\n",
       "      <td>0.050166</td>\n",
       "      <td>0.184243</td>\n",
       "    </tr>\n",
       "    <tr>\n",
       "      <th>Length</th>\n",
       "      <td>0.891971</td>\n",
       "      <td>0.062553</td>\n",
       "      <td>0.127723</td>\n",
       "    </tr>\n",
       "    <tr>\n",
       "      <th>Width</th>\n",
       "      <td>0.780523</td>\n",
       "      <td>0.146540</td>\n",
       "      <td>0.352604</td>\n",
       "    </tr>\n",
       "  </tbody>\n",
       "</table>\n",
       "</div>"
      ],
      "text/plain": [
       "             factor1   factor2   factor3\n",
       "RWD        -0.009728  0.515594  0.061565\n",
       "Retail      0.127267  0.941725  0.196151\n",
       "HighwayMPG -0.286786 -0.256309 -0.927565\n",
       "Dealer      0.124332  0.940491  0.193098\n",
       "Engine      0.620791  0.503403  0.448766\n",
       "Cylinders   0.523483  0.588974  0.405211\n",
       "Horsepower  0.317939  0.769997  0.399267\n",
       "CityMPG    -0.348684 -0.302464 -0.797470\n",
       "Weight      0.686427  0.262862  0.554913\n",
       "Wheelbase   0.901394  0.050166  0.184243\n",
       "Length      0.891971  0.062553  0.127723\n",
       "Width       0.780523  0.146540  0.352604"
      ]
     },
     "execution_count": 78,
     "metadata": {},
     "output_type": "execute_result"
    }
   ],
   "source": [
    "fa = pd.DataFrame(factor.loadings_, index=X.columns)\n",
    "fa.columns=['factor1','factor2', 'factor3']\n",
    "fa"
   ]
  },
  {
   "cell_type": "raw",
   "metadata": {},
   "source": [
    "Note that Factor analysis with Varimax rotation provide loadings with large range and it is helpful for interpretation. \n",
    "Factor1:- it is highly loaded on length, width, engine size etc. Hence we can name it 'Size'\n",
    "Factor2:- highly loaded on HP and Price. Hence it can be named 'Sportiness'."
   ]
  },
  {
   "cell_type": "code",
   "execution_count": 79,
   "metadata": {},
   "outputs": [],
   "source": [
    "x_fa = factor.fit_transform(Xs)"
   ]
  },
  {
   "cell_type": "code",
   "execution_count": 101,
   "metadata": {},
   "outputs": [
    {
     "data": {
      "image/png": "[encoded data removed]",
      "text/plain": [
       "<Figure size 432x288 with 1 Axes>"
      ]
     },
     "metadata": {
      "needs_background": "light"
     },
     "output_type": "display_data"
    }
   ],
   "source": [
    "fig, ax = plt.subplots()\n",
    "group = label['Country']\n",
    "for g in list(group.unique()):\n",
    "    i = np.where(group==g)\n",
    "    ax.scatter(x_fa[i,0], x_fa[i,1], label=g)\n",
    "\n",
    "ax.set_xlabel('Size')\n",
    "ax.set_ylabel('Sportiness')\n",
    "ax.legend()\n",
    "plt.show()"
   ]
  },
  {
   "cell_type": "raw",
   "metadata": {},
   "source": [
    "Figure shows that more US cars are high in size while many EU cars are high in EU"
   ]
  },
  {
   "cell_type": "code",
   "execution_count": null,
   "metadata": {},
   "outputs": [],
   "source": []
  }
 ],
 "metadata": {
  "kernelspec": {
   "display_name": "Python 3",
   "language": "python",
   "name": "python3"
  },
  "language_info": {
   "codemirror_mode": {
    "name": "ipython",
    "version": 3
   },
   "file_extension": ".py",
   "mimetype": "text/x-python",
   "name": "python",
   "nbconvert_exporter": "python",
   "pygments_lexer": "ipython3",
   "version": "3.7.7"
  }
 },
 "nbformat": 4,
 "nbformat_minor": 4
}
